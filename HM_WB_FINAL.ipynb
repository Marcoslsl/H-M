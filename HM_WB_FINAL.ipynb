{
 "cells": [
  {
   "cell_type": "markdown",
   "id": "44acf9d1",
   "metadata": {},
   "source": [
    "# 0.0. Imports"
   ]
  },
  {
   "cell_type": "code",
   "execution_count": 1,
   "id": "3818fa74",
   "metadata": {
    "ExecuteTime": {
     "end_time": "2022-01-23T09:49:52.441128Z",
     "start_time": "2022-01-23T09:49:41.826239Z"
    }
   },
   "outputs": [],
   "source": [
    "import requests\n",
    "import re\n",
    "import sqlite3\n",
    "\n",
    "import matplotlib.pyplot as plt\n",
    "import seaborn           as sns\n",
    "import pandas            as pd\n",
    "import numpy             as np\n",
    "\n",
    "from bs4        import BeautifulSoup\n",
    "from datetime   import datetime\n",
    "from sqlalchemy import create_engine"
   ]
  },
  {
   "cell_type": "code",
   "execution_count": 2,
   "id": "0ace61f3",
   "metadata": {
    "ExecuteTime": {
     "end_time": "2022-01-23T09:50:06.712392Z",
     "start_time": "2022-01-23T09:50:06.686148Z"
    }
   },
   "outputs": [],
   "source": [
    "sns.set_style( 'darkgrid' )\n",
    "sns.set_palette( 'twilight_shifted_r' )\n",
    "\n",
    "%matplotlib inline \n",
    "plt.rcParams['figure.figsize'] = [12,7]"
   ]
  },
  {
   "cell_type": "markdown",
   "id": "2e96a8f8",
   "metadata": {},
   "source": [
    "# 1.0. Collect Data"
   ]
  },
  {
   "cell_type": "code",
   "execution_count": 68,
   "id": "12cade6c",
   "metadata": {
    "ExecuteTime": {
     "end_time": "2022-01-22T17:56:07.765073Z",
     "start_time": "2022-01-22T17:56:05.429464Z"
    }
   },
   "outputs": [],
   "source": [
    "# parameters\n",
    "headers = {'user-agent': 'Mozilla/5.0 (Windows NT 10.0; Win64; x64) AppleWebKit/537.36 (KHTML, like Gecko) Chrome/74.0.3729.169 Safari/537.36'}\n",
    "\n",
    "# URL\n",
    "url = 'https://www2.hm.com/en_us/men/products/jeans.html'\n",
    "\n",
    "# Request to URL\n",
    "page = requests.get( url, headers=headers )\n",
    "\n",
    "# Beautiful soup object\n",
    "soup = BeautifulSoup( page.text, 'html.parser' )\n",
    "\n",
    "# ================= product Data ================= \n",
    "products = soup.find( 'ul', class_='products-listing small' )\n",
    "products_list = products.find_all( 'article', class_='hm-product-item' )\n",
    "\n",
    "#id\n",
    "product_id = [p.get( 'data-articlecode' ) for p in products_list]\n",
    "\n",
    "#category\n",
    "product_cat = [p.get( 'data-category' ) for p in products_list]\n",
    "\n",
    "# name\n",
    "product_name = [p.find( 'a', class_='link' ).get_text() for p in products_list]\n",
    "\n",
    "# price\n",
    "product_price = [p.find( 'span', class_='price regular' ).get_text() for p in products_list]\n",
    "\n",
    "# dataframe from the products showed in main page\n",
    "data = pd.DataFrame( [product_id, product_cat, product_name, product_price] ).T\n",
    "data.columns = ['product_id', 'product_category', 'product_name','product_price']"
   ]
  },
  {
   "cell_type": "code",
   "execution_count": 69,
   "id": "9d731dcd",
   "metadata": {
    "ExecuteTime": {
     "end_time": "2022-01-22T17:56:08.606496Z",
     "start_time": "2022-01-22T17:56:08.585620Z"
    }
   },
   "outputs": [
    {
     "data": {
      "text/plain": [
       "(36, 4)"
      ]
     },
     "execution_count": 69,
     "metadata": {},
     "output_type": "execute_result"
    }
   ],
   "source": [
    "data.shape"
   ]
  },
  {
   "cell_type": "markdown",
   "id": "9b8bff23",
   "metadata": {},
   "source": [
    "## 1.1. Data Collection by Product"
   ]
  },
  {
   "cell_type": "code",
   "execution_count": 70,
   "id": "fef5bde9",
   "metadata": {
    "ExecuteTime": {
     "end_time": "2022-01-22T18:00:57.915549Z",
     "start_time": "2022-01-22T17:56:10.527065Z"
    }
   },
   "outputs": [],
   "source": [
    "custom_header = {'user-agent': 'Mozilla/5.0 (Windows NT 10.0; Win64; x64) AppleWebKit/537.36 (KHTML, like Gecko) Chrome/74.0.3729.169 Safari/537.36'}\n",
    "df_compositions = pd.DataFrame()\n",
    "\n",
    "# unique columns for all products \n",
    "aux = []\n",
    "\n",
    "cols = ['Art. No.', 'Composition', 'Fit', 'Product safety', 'Size']\n",
    "df_pattern = pd.DataFrame( columns=cols )\n",
    "\n",
    "# Using just the id from the data to go through each product and catch each feature inside the page of each product\n",
    "for i in range( len(data) ):\n",
    "\n",
    "    # Api Requests\n",
    "    url = 'https://www2.hm.com/en_us/productpage.' + data.loc[i,'product_id'] + '.html'\n",
    "    \n",
    "    page = requests.get( url, headers=custom_header )\n",
    "    \n",
    "    # Beautifulsoup object\n",
    "    soup = BeautifulSoup( page.text, 'html.parser' )\n",
    "    \n",
    "    # color name and product id\n",
    "    product_list = soup.find_all( 'a', class_='filter-option miniature' ) + soup.find_all( 'a', class_='filter-option miniature active' )\n",
    "    \n",
    "    color_name = [p.get( 'data-color' ) for p in product_list]\n",
    "    product_id = [p.get( 'data-articlecode' ) for p in product_list]\n",
    "    \n",
    "    # color and id data frame\n",
    "    df_color = pd.DataFrame( [product_id,color_name] ).T\n",
    "    df_color.columns = ['product_id','color_name']\n",
    "    \n",
    "    for j in range(len( df_color )):  \n",
    "        \n",
    "        # Api Requests\n",
    "        url = 'https://www2.hm.com/en_us/productpage.' + df_color.loc[j,'product_id'] + '.html'\n",
    "\n",
    "        page = requests.get( url, headers=custom_header )\n",
    "\n",
    "        # Beautifulsoup object\n",
    "        soup = BeautifulSoup( page.text, 'html.parser' )\n",
    "\n",
    "        \n",
    "        # =========== product name ===========\n",
    "        product_name = soup.find_all( 'h1', class_='primary product-item-headline' )\n",
    "        product_name = product_name[0].get_text()\n",
    "\n",
    "        \n",
    "        # =========== product price ===========\n",
    "        product_price = soup.find_all( 'div', class_='primary-row product-item-price' )\n",
    "        product_price = re.findall( r'\\d+\\.?\\d+', product_price[0].get_text() )[0]\n",
    "        \n",
    "        # =========== composition ===========\n",
    "        product_composition_list = soup.find_all( 'div', class_='pdp-description-list-item' )\n",
    "\n",
    "        composition = [list( filter( None, p.get_text().split( '\\n' ) ) ) for p in product_composition_list]\n",
    "\n",
    "        # rename dataframe\n",
    "        df_aux = pd.DataFrame( composition ).T\n",
    "        df_aux.columns = df_aux.iloc[0]\n",
    "        \n",
    "\n",
    "        # delete first row\n",
    "        df_aux = df_aux.iloc[1:].fillna( method='ffill' )\n",
    "\n",
    "        # remove pocket lining, shell, lining and pocket\n",
    "        df_aux['Composition'] = df_aux['Composition'].replace( 'Pocket lining: ', '', regex=True )\n",
    "        df_aux['Composition'] = df_aux['Composition'].replace( 'Shell: ', '', regex=True )\n",
    "        df_aux['Composition'] = df_aux['Composition'].replace( 'Lining: ', '', regex=True )\n",
    "        df_aux['Composition'] = df_aux['Composition'].replace( 'Pocket: ', '', regex=True )\n",
    "\n",
    "        # garantee the same number of columns\n",
    "        df_aux = pd.concat( [df_pattern, df_aux], axis=0 )\n",
    "        \n",
    "        if len(df_aux.columns) > 5:\n",
    "            df_aux = df_aux.iloc[:,:-1]\n",
    "        \n",
    "        # rename columns\n",
    "        df_aux.columns = ['product_id','composition','fit','product_safety','size']\n",
    "        \n",
    "        df_aux['product_name'] = product_name\n",
    "        df_aux['product_price'] = product_price\n",
    "\n",
    "        # just to know how many features has in the diferents products\n",
    "        aux = aux + df_aux.columns.tolist()\n",
    "\n",
    "        # merge\n",
    "        df_aux = pd.merge( df_aux, df_color, how='left', on='product_id' )\n",
    "        \n",
    "        df_compositions = pd.concat( [df_compositions, df_aux], axis=0 )\n",
    "        df_compositions = df_compositions.reset_index( drop=True )\n",
    "        \n",
    "# Join Showroom data + details\n",
    "df_compositions['style_id'] = df_compositions['product_id'].apply( lambda x: x[:-3] )\n",
    "df_compositions['color_id'] = df_compositions['product_id'].apply( lambda x: x[-3:] )\n",
    "\n",
    "# scrapy datetime\n",
    "df_compositions['scrapy_datetime'] = datetime.now().strftime( '%Y-%m-%d %H:%M:%S' )"
   ]
  },
  {
   "cell_type": "code",
   "execution_count": 5,
   "id": "a032eb88",
   "metadata": {
    "ExecuteTime": {
     "end_time": "2022-01-21T15:32:08.218501Z",
     "start_time": "2022-01-21T15:32:08.128841Z"
    }
   },
   "outputs": [
    {
     "data": {
      "text/html": [
       "<div>\n",
       "<style scoped>\n",
       "    .dataframe tbody tr th:only-of-type {\n",
       "        vertical-align: middle;\n",
       "    }\n",
       "\n",
       "    .dataframe tbody tr th {\n",
       "        vertical-align: top;\n",
       "    }\n",
       "\n",
       "    .dataframe thead th {\n",
       "        text-align: right;\n",
       "    }\n",
       "</style>\n",
       "<table border=\"1\" class=\"dataframe\">\n",
       "  <thead>\n",
       "    <tr style=\"text-align: right;\">\n",
       "      <th></th>\n",
       "      <th>product_id</th>\n",
       "      <th>composition</th>\n",
       "      <th>fit</th>\n",
       "      <th>product_safety</th>\n",
       "      <th>size</th>\n",
       "      <th>product_name</th>\n",
       "      <th>product_price</th>\n",
       "      <th>color_name</th>\n",
       "      <th>style_id</th>\n",
       "      <th>color_id</th>\n",
       "      <th>scrapy_datetime</th>\n",
       "    </tr>\n",
       "  </thead>\n",
       "  <tbody>\n",
       "    <tr>\n",
       "      <th>0</th>\n",
       "      <td>1024256002</td>\n",
       "      <td>Cotton 99%, Spandex 1%</td>\n",
       "      <td>Slim fit</td>\n",
       "      <td>NaN</td>\n",
       "      <td>NaN</td>\n",
       "      <td>\\n\\t\\t\\t\\t\\t\\t\\t  Slim Jeans</td>\n",
       "      <td>19.99</td>\n",
       "      <td>Light denim blue</td>\n",
       "      <td>1024256</td>\n",
       "      <td>002</td>\n",
       "      <td>2022-01-21 12:32:07</td>\n",
       "    </tr>\n",
       "    <tr>\n",
       "      <th>1</th>\n",
       "      <td>1024256002</td>\n",
       "      <td>Polyester 65%, Cotton 35%</td>\n",
       "      <td>Slim fit</td>\n",
       "      <td>NaN</td>\n",
       "      <td>NaN</td>\n",
       "      <td>\\n\\t\\t\\t\\t\\t\\t\\t  Slim Jeans</td>\n",
       "      <td>19.99</td>\n",
       "      <td>Light denim blue</td>\n",
       "      <td>1024256</td>\n",
       "      <td>002</td>\n",
       "      <td>2022-01-21 12:32:07</td>\n",
       "    </tr>\n",
       "  </tbody>\n",
       "</table>\n",
       "</div>"
      ],
      "text/plain": [
       "   product_id                composition       fit product_safety size  \\\n",
       "0  1024256002     Cotton 99%, Spandex 1%  Slim fit            NaN  NaN   \n",
       "1  1024256002  Polyester 65%, Cotton 35%  Slim fit            NaN  NaN   \n",
       "\n",
       "                   product_name product_price        color_name style_id  \\\n",
       "0  \\n\\t\\t\\t\\t\\t\\t\\t  Slim Jeans         19.99  Light denim blue  1024256   \n",
       "1  \\n\\t\\t\\t\\t\\t\\t\\t  Slim Jeans         19.99  Light denim blue  1024256   \n",
       "\n",
       "  color_id      scrapy_datetime  \n",
       "0      002  2022-01-21 12:32:07  \n",
       "1      002  2022-01-21 12:32:07  "
      ]
     },
     "execution_count": 5,
     "metadata": {},
     "output_type": "execute_result"
    }
   ],
   "source": [
    "df_compositions.head(2)"
   ]
  },
  {
   "cell_type": "markdown",
   "id": "cb551ebe",
   "metadata": {},
   "source": [
    "# 2.0. Data Cleaning"
   ]
  },
  {
   "cell_type": "code",
   "execution_count": 71,
   "id": "8f9f5531",
   "metadata": {
    "ExecuteTime": {
     "end_time": "2022-01-22T18:00:58.785500Z",
     "start_time": "2022-01-22T18:00:58.576987Z"
    },
    "code_folding": []
   },
   "outputs": [],
   "source": [
    "df_data  = df_compositions.dropna( subset=['product_id'] )\n",
    "\n",
    "# name\n",
    "df_data['product_name'] = df_data['product_name'].apply( lambda x: re.search( '\\S+.+', x).group() ).str.lower()\n",
    "df_data['product_name'] = df_data['product_name'].str.replace( ' ', '_' )\n",
    "\n",
    "# price\n",
    "df_data['product_price'] = df_data['product_price'].astype( float )\n",
    "\n",
    "# color_name\n",
    "df_data['color_name'] = df_data['color_name'].apply( lambda x: x.replace(' ','_').lower() if pd.notnull(x) else x )\n",
    "\n",
    "# fit \n",
    "df_data['fit'] = df_data['fit'].apply( lambda x: x.replace(' ','_').lower() if pd.notnull(x) else x )\n",
    "\n",
    "# size numeber\n",
    "df_data['size_number'] = df_data['size'].apply( lambda x: re.search( '\\d{3}cm', x ).group() if pd.notnull(x) else x )\n",
    "df_data['size_number'] = df_data['size_number'].apply( lambda x: str( x ).replace( 'cm', '') )\n",
    "\n",
    "# size_model\n",
    "df_data['size_model'] = df_data['size'].str.extract( '(\\d+/\\d+)' )\n",
    "\n",
    "# product safety dropped\n",
    "df_data.drop( 'product_safety', axis=1, inplace=True )\n",
    "\n",
    "# ============== composition ===============\n",
    "\n",
    "df = df_data['composition'].str.split( ',', expand=True ).reset_index( drop=True )\n",
    "\n",
    "df_ref = pd.DataFrame( columns=['cotton','polyester','elasterell','spandex'], index=np.arange( len(data ) ) )\n",
    "\n",
    "# ============== composition ===============\n",
    "\n",
    "# ===== cotton =====\n",
    "df_cotton_0 = df.loc[df[0].str.contains( 'Cotton', na=True ), 0]\n",
    "\n",
    "df_cotton_1 = df.loc[df[1].str.contains( 'Cotton', na=True ), 1]\n",
    "\n",
    "# combine\n",
    "df_cotton = df_cotton_0.combine_first( df_cotton_1 )\n",
    "df_cotton.name = 'cotton'\n",
    "\n",
    "df_ref = pd.concat( [df_ref, df_cotton], axis=1 )\n",
    "df_ref = df_ref.iloc[:, ~df_ref.columns.duplicated( keep='last' )]\n",
    "\n",
    "# ===== polyester =====  \n",
    "df_polyester_0 = df.loc[df[0].str.contains( 'Polyester', na=True ), 0]\n",
    "\n",
    "df_polyester_1 = df.loc[df[1].str.contains( 'Polyester', na=True ), 1]\n",
    "\n",
    "# combine\n",
    "df_polyester = df_polyester_0.combine_first( df_polyester_1 )\n",
    "df_polyester.name = 'polyester'\n",
    "\n",
    "df_ref = pd.concat( [df_ref, df_polyester], axis=1 )\n",
    "df_ref = df_ref.iloc[:, ~df_ref.columns.duplicated( keep='last')]\n",
    "\n",
    "# ===== elasterell =====\n",
    "df_elasterell = df.loc[df[1].str.contains( 'Elasterell', na=True ), 1]\n",
    "df_elasterell.name = 'elasterell'\n",
    "\n",
    "df_ref = pd.concat( [df_ref, df_elasterell], axis=1 )\n",
    "df_ref = df_ref.loc[:, ~df_ref.columns.duplicated( keep='last' ) ]\n",
    "\n",
    "# ===== spandex =====\n",
    "df_spandex_1 = df.loc[df[1].str.contains( 'Spandex', na=True ), 1]\n",
    "\n",
    "df_spandex_2 = df.loc[df[2].str.contains( 'Spandex', na=True ), 2]\n",
    "\n",
    "df_spandex_3 = df.loc[df[3].str.contains( 'Spandex', na=True ), 3]\n",
    "\n",
    "aux = df_spandex_1.combine_first( df_spandex_2 )\n",
    "df_spandex = aux.combine_first( df_spandex_3 )\n",
    "df_spandex.name = 'spandex'\n",
    "                                                 \n",
    "df_ref = pd.concat( [df_ref, df_spandex], axis=1 )\n",
    "df_ref = df_ref.loc[:, ~df_ref.columns.duplicated( keep='last' )]\n",
    "\n",
    "# join of combine with product_id\n",
    "df_aux_ = pd.concat( [df_data['product_id'].reset_index( drop=True ), df_ref], axis=1 )\n",
    "\n",
    "df_aux_['cotton']     = df_aux_['cotton'].apply( lambda x: int( re.search( '\\d+',x ).group() ) / 100 if pd.notnull( x ) else x )\n",
    "df_aux_['polyester']  = df_aux_['polyester'].apply( lambda x: int( re.search( '\\d+',x ).group() ) / 100 if pd.notnull( x ) else x )\n",
    "df_aux_['elasterell'] = df_aux_['elasterell'].apply( lambda x: int( re.search( '\\d+',x ).group() ) / 100 if pd.notnull( x ) else x )\n",
    "df_aux_['spandex']    = df_aux_['spandex'].apply( lambda x: int( re.search( '\\d+',x ).group() ) / 100 if pd.notnull( x ) else x )\n",
    "\n",
    "# final join\n",
    "df_aux_ = df_aux_.groupby( 'product_id' ).max().reset_index().fillna(0)\n",
    "\n",
    "df_data = pd.merge( df_data,df_aux_, on='product_id', how='left' )\n",
    "\n",
    "# drop columns\n",
    "df_data = df_data.drop( columns=['size', 'composition'], axis=1 )\n",
    "\n",
    "# drop duplicatates\n",
    "df_data = df_data.drop_duplicates()"
   ]
  },
  {
   "cell_type": "code",
   "execution_count": 7,
   "id": "e5e5be62",
   "metadata": {
    "ExecuteTime": {
     "end_time": "2022-01-21T15:32:09.668784Z",
     "start_time": "2022-01-21T15:32:09.629273Z"
    }
   },
   "outputs": [
    {
     "data": {
      "text/html": [
       "<div>\n",
       "<style scoped>\n",
       "    .dataframe tbody tr th:only-of-type {\n",
       "        vertical-align: middle;\n",
       "    }\n",
       "\n",
       "    .dataframe tbody tr th {\n",
       "        vertical-align: top;\n",
       "    }\n",
       "\n",
       "    .dataframe thead th {\n",
       "        text-align: right;\n",
       "    }\n",
       "</style>\n",
       "<table border=\"1\" class=\"dataframe\">\n",
       "  <thead>\n",
       "    <tr style=\"text-align: right;\">\n",
       "      <th></th>\n",
       "      <th>product_id</th>\n",
       "      <th>fit</th>\n",
       "      <th>product_name</th>\n",
       "      <th>product_price</th>\n",
       "      <th>color_name</th>\n",
       "      <th>style_id</th>\n",
       "      <th>color_id</th>\n",
       "      <th>scrapy_datetime</th>\n",
       "      <th>size_number</th>\n",
       "      <th>size_model</th>\n",
       "      <th>cotton</th>\n",
       "      <th>polyester</th>\n",
       "      <th>elasterell</th>\n",
       "      <th>spandex</th>\n",
       "    </tr>\n",
       "  </thead>\n",
       "  <tbody>\n",
       "    <tr>\n",
       "      <th>0</th>\n",
       "      <td>1024256002</td>\n",
       "      <td>slim_fit</td>\n",
       "      <td>slim_jeans</td>\n",
       "      <td>19.99</td>\n",
       "      <td>light_denim_blue</td>\n",
       "      <td>1024256</td>\n",
       "      <td>002</td>\n",
       "      <td>2022-01-21 12:32:07</td>\n",
       "      <td>nan</td>\n",
       "      <td>NaN</td>\n",
       "      <td>0.99</td>\n",
       "      <td>0.65</td>\n",
       "      <td>0.0</td>\n",
       "      <td>0.01</td>\n",
       "    </tr>\n",
       "    <tr>\n",
       "      <th>2</th>\n",
       "      <td>1024256003</td>\n",
       "      <td>slim_fit</td>\n",
       "      <td>slim_jeans</td>\n",
       "      <td>19.99</td>\n",
       "      <td>light_denim_blue</td>\n",
       "      <td>1024256</td>\n",
       "      <td>003</td>\n",
       "      <td>2022-01-21 12:32:07</td>\n",
       "      <td>189</td>\n",
       "      <td>31/32</td>\n",
       "      <td>0.99</td>\n",
       "      <td>0.65</td>\n",
       "      <td>0.0</td>\n",
       "      <td>0.01</td>\n",
       "    </tr>\n",
       "    <tr>\n",
       "      <th>4</th>\n",
       "      <td>1024256004</td>\n",
       "      <td>slim_fit</td>\n",
       "      <td>slim_jeans</td>\n",
       "      <td>19.99</td>\n",
       "      <td>denim_blue</td>\n",
       "      <td>1024256</td>\n",
       "      <td>004</td>\n",
       "      <td>2022-01-21 12:32:07</td>\n",
       "      <td>nan</td>\n",
       "      <td>NaN</td>\n",
       "      <td>0.99</td>\n",
       "      <td>0.65</td>\n",
       "      <td>0.0</td>\n",
       "      <td>0.01</td>\n",
       "    </tr>\n",
       "    <tr>\n",
       "      <th>6</th>\n",
       "      <td>1024256005</td>\n",
       "      <td>slim_fit</td>\n",
       "      <td>slim_jeans</td>\n",
       "      <td>19.99</td>\n",
       "      <td>dark_blue</td>\n",
       "      <td>1024256</td>\n",
       "      <td>005</td>\n",
       "      <td>2022-01-21 12:32:07</td>\n",
       "      <td>nan</td>\n",
       "      <td>NaN</td>\n",
       "      <td>0.99</td>\n",
       "      <td>0.65</td>\n",
       "      <td>0.0</td>\n",
       "      <td>0.01</td>\n",
       "    </tr>\n",
       "    <tr>\n",
       "      <th>8</th>\n",
       "      <td>1024256006</td>\n",
       "      <td>slim_fit</td>\n",
       "      <td>slim_jeans</td>\n",
       "      <td>19.99</td>\n",
       "      <td>dark_denim_blue</td>\n",
       "      <td>1024256</td>\n",
       "      <td>006</td>\n",
       "      <td>2022-01-21 12:32:07</td>\n",
       "      <td>188</td>\n",
       "      <td>31/32</td>\n",
       "      <td>1.00</td>\n",
       "      <td>0.00</td>\n",
       "      <td>0.0</td>\n",
       "      <td>0.01</td>\n",
       "    </tr>\n",
       "  </tbody>\n",
       "</table>\n",
       "</div>"
      ],
      "text/plain": [
       "   product_id       fit product_name  product_price        color_name  \\\n",
       "0  1024256002  slim_fit   slim_jeans          19.99  light_denim_blue   \n",
       "2  1024256003  slim_fit   slim_jeans          19.99  light_denim_blue   \n",
       "4  1024256004  slim_fit   slim_jeans          19.99        denim_blue   \n",
       "6  1024256005  slim_fit   slim_jeans          19.99         dark_blue   \n",
       "8  1024256006  slim_fit   slim_jeans          19.99   dark_denim_blue   \n",
       "\n",
       "  style_id color_id      scrapy_datetime size_number size_model  cotton  \\\n",
       "0  1024256      002  2022-01-21 12:32:07         nan        NaN    0.99   \n",
       "2  1024256      003  2022-01-21 12:32:07         189      31/32    0.99   \n",
       "4  1024256      004  2022-01-21 12:32:07         nan        NaN    0.99   \n",
       "6  1024256      005  2022-01-21 12:32:07         nan        NaN    0.99   \n",
       "8  1024256      006  2022-01-21 12:32:07         188      31/32    1.00   \n",
       "\n",
       "   polyester  elasterell  spandex  \n",
       "0       0.65         0.0     0.01  \n",
       "2       0.65         0.0     0.01  \n",
       "4       0.65         0.0     0.01  \n",
       "6       0.65         0.0     0.01  \n",
       "8       0.00         0.0     0.01  "
      ]
     },
     "execution_count": 7,
     "metadata": {},
     "output_type": "execute_result"
    }
   ],
   "source": [
    "df_data.head()"
   ]
  },
  {
   "cell_type": "markdown",
   "id": "dfbacc5f",
   "metadata": {},
   "source": [
    "# 3.0. Data Insert"
   ]
  },
  {
   "cell_type": "code",
   "execution_count": 72,
   "id": "07f31b80",
   "metadata": {
    "ExecuteTime": {
     "end_time": "2022-01-22T18:00:59.802285Z",
     "start_time": "2022-01-22T18:00:59.775425Z"
    }
   },
   "outputs": [],
   "source": [
    "data_insert = df_data[[\n",
    "    'product_id',\n",
    "    'style_id',\n",
    "    'color_id',\n",
    "    'product_name',\n",
    "    'color_name',\n",
    "    'fit',\n",
    "    'product_price',\n",
    "    'size_number',\n",
    "    'size_model',\n",
    "    'cotton',\n",
    "    'polyester',\n",
    "    'elasterell',\n",
    "    'spandex',\n",
    "    'scrapy_datetime'\n",
    "]]"
   ]
  },
  {
   "cell_type": "code",
   "execution_count": 50,
   "id": "c0093bb4",
   "metadata": {
    "ExecuteTime": {
     "end_time": "2022-01-21T16:43:58.889568Z",
     "start_time": "2022-01-21T16:43:58.882570Z"
    }
   },
   "outputs": [],
   "source": [
    "# query = \"\"\"\n",
    "#     CREATE TABLE vitrine(\n",
    "    \n",
    "#     product_id         TEXT,\n",
    "#     style_id           TEXT,\n",
    "#     color_id           TEXT,\n",
    "#     product_name       TEXT,\n",
    "#     color_name         TEXT,\n",
    "#     fit                TEXT,\n",
    "#     product_price      REAL,\n",
    "#     size_number        TEXT,\n",
    "#     size_model         TEXT,\n",
    "#     cotton             REAL,\n",
    "#     polyester          REAL,\n",
    "#     elasterell         REAL,\n",
    "#     spandex            REAL,\n",
    "#     scrapy_datetime    TEXT\n",
    "#     )\n",
    "# \"\"\""
   ]
  },
  {
   "cell_type": "code",
   "execution_count": 48,
   "id": "c765c3c2",
   "metadata": {
    "ExecuteTime": {
     "end_time": "2022-01-21T16:43:20.788153Z",
     "start_time": "2022-01-21T16:43:20.778166Z"
    }
   },
   "outputs": [],
   "source": [
    "# query_drop = \"\"\"\n",
    "#     DROP TABLE vitrine\n",
    "# \"\"\""
   ]
  },
  {
   "cell_type": "code",
   "execution_count": 51,
   "id": "9c6d47c5",
   "metadata": {
    "ExecuteTime": {
     "end_time": "2022-01-21T16:44:00.986277Z",
     "start_time": "2022-01-21T16:44:00.955136Z"
    }
   },
   "outputs": [],
   "source": [
    "# create table\n",
    "conn = sqlite3.connect( 'database_hm.sqlite' )\n",
    "# cursor = conn.execute( query_drop )\n",
    "cursor = conn.execute( query )\n",
    "conn.commit()"
   ]
  },
  {
   "cell_type": "code",
   "execution_count": 73,
   "id": "9a8c0c48",
   "metadata": {
    "ExecuteTime": {
     "end_time": "2022-01-22T18:01:00.759018Z",
     "start_time": "2022-01-22T18:01:00.709596Z"
    }
   },
   "outputs": [],
   "source": [
    "# create database connection\n",
    "conn = create_engine( 'sqlite:///database_hm.sqlite', echo=False )\n",
    "\n",
    "# data insert\n",
    "data_insert.to_sql( 'vitrine', con=conn, if_exists='append', index=False )"
   ]
  },
  {
   "cell_type": "code",
   "execution_count": 74,
   "id": "a6e0f801",
   "metadata": {
    "ExecuteTime": {
     "end_time": "2022-01-22T18:01:01.752889Z",
     "start_time": "2022-01-22T18:01:01.693997Z"
    }
   },
   "outputs": [
    {
     "data": {
      "text/html": [
       "<div>\n",
       "<style scoped>\n",
       "    .dataframe tbody tr th:only-of-type {\n",
       "        vertical-align: middle;\n",
       "    }\n",
       "\n",
       "    .dataframe tbody tr th {\n",
       "        vertical-align: top;\n",
       "    }\n",
       "\n",
       "    .dataframe thead th {\n",
       "        text-align: right;\n",
       "    }\n",
       "</style>\n",
       "<table border=\"1\" class=\"dataframe\">\n",
       "  <thead>\n",
       "    <tr style=\"text-align: right;\">\n",
       "      <th></th>\n",
       "      <th>product_id</th>\n",
       "      <th>style_id</th>\n",
       "      <th>color_id</th>\n",
       "      <th>product_name</th>\n",
       "      <th>color_name</th>\n",
       "      <th>fit</th>\n",
       "      <th>product_price</th>\n",
       "      <th>size_number</th>\n",
       "      <th>size_model</th>\n",
       "      <th>cotton</th>\n",
       "      <th>polyester</th>\n",
       "      <th>elasterell</th>\n",
       "      <th>spandex</th>\n",
       "      <th>scrapy_datetime</th>\n",
       "    </tr>\n",
       "  </thead>\n",
       "  <tbody>\n",
       "    <tr>\n",
       "      <th>0</th>\n",
       "      <td>1024256002</td>\n",
       "      <td>1024256</td>\n",
       "      <td>002</td>\n",
       "      <td>slim_jeans</td>\n",
       "      <td>light_denim_blue</td>\n",
       "      <td>slim_fit</td>\n",
       "      <td>19.99</td>\n",
       "      <td>nan</td>\n",
       "      <td>None</td>\n",
       "      <td>0.99</td>\n",
       "      <td>0.65</td>\n",
       "      <td>0.0</td>\n",
       "      <td>0.01</td>\n",
       "      <td>2022-01-21 12:32:07</td>\n",
       "    </tr>\n",
       "    <tr>\n",
       "      <th>1</th>\n",
       "      <td>1024256003</td>\n",
       "      <td>1024256</td>\n",
       "      <td>003</td>\n",
       "      <td>slim_jeans</td>\n",
       "      <td>light_denim_blue</td>\n",
       "      <td>slim_fit</td>\n",
       "      <td>19.99</td>\n",
       "      <td>189</td>\n",
       "      <td>31/32</td>\n",
       "      <td>0.99</td>\n",
       "      <td>0.65</td>\n",
       "      <td>0.0</td>\n",
       "      <td>0.01</td>\n",
       "      <td>2022-01-21 12:32:07</td>\n",
       "    </tr>\n",
       "    <tr>\n",
       "      <th>2</th>\n",
       "      <td>1024256004</td>\n",
       "      <td>1024256</td>\n",
       "      <td>004</td>\n",
       "      <td>slim_jeans</td>\n",
       "      <td>denim_blue</td>\n",
       "      <td>slim_fit</td>\n",
       "      <td>19.99</td>\n",
       "      <td>nan</td>\n",
       "      <td>None</td>\n",
       "      <td>0.99</td>\n",
       "      <td>0.65</td>\n",
       "      <td>0.0</td>\n",
       "      <td>0.01</td>\n",
       "      <td>2022-01-21 12:32:07</td>\n",
       "    </tr>\n",
       "    <tr>\n",
       "      <th>3</th>\n",
       "      <td>1024256005</td>\n",
       "      <td>1024256</td>\n",
       "      <td>005</td>\n",
       "      <td>slim_jeans</td>\n",
       "      <td>dark_blue</td>\n",
       "      <td>slim_fit</td>\n",
       "      <td>19.99</td>\n",
       "      <td>nan</td>\n",
       "      <td>None</td>\n",
       "      <td>0.99</td>\n",
       "      <td>0.65</td>\n",
       "      <td>0.0</td>\n",
       "      <td>0.01</td>\n",
       "      <td>2022-01-21 12:32:07</td>\n",
       "    </tr>\n",
       "    <tr>\n",
       "      <th>4</th>\n",
       "      <td>1024256006</td>\n",
       "      <td>1024256</td>\n",
       "      <td>006</td>\n",
       "      <td>slim_jeans</td>\n",
       "      <td>dark_denim_blue</td>\n",
       "      <td>slim_fit</td>\n",
       "      <td>19.99</td>\n",
       "      <td>188</td>\n",
       "      <td>31/32</td>\n",
       "      <td>1.00</td>\n",
       "      <td>0.00</td>\n",
       "      <td>0.0</td>\n",
       "      <td>0.01</td>\n",
       "      <td>2022-01-21 12:32:07</td>\n",
       "    </tr>\n",
       "  </tbody>\n",
       "</table>\n",
       "</div>"
      ],
      "text/plain": [
       "   product_id style_id color_id product_name        color_name       fit  \\\n",
       "0  1024256002  1024256      002   slim_jeans  light_denim_blue  slim_fit   \n",
       "1  1024256003  1024256      003   slim_jeans  light_denim_blue  slim_fit   \n",
       "2  1024256004  1024256      004   slim_jeans        denim_blue  slim_fit   \n",
       "3  1024256005  1024256      005   slim_jeans         dark_blue  slim_fit   \n",
       "4  1024256006  1024256      006   slim_jeans   dark_denim_blue  slim_fit   \n",
       "\n",
       "   product_price size_number size_model  cotton  polyester  elasterell  \\\n",
       "0          19.99         nan       None    0.99       0.65         0.0   \n",
       "1          19.99         189      31/32    0.99       0.65         0.0   \n",
       "2          19.99         nan       None    0.99       0.65         0.0   \n",
       "3          19.99         nan       None    0.99       0.65         0.0   \n",
       "4          19.99         188      31/32    1.00       0.00         0.0   \n",
       "\n",
       "   spandex      scrapy_datetime  \n",
       "0     0.01  2022-01-21 12:32:07  \n",
       "1     0.01  2022-01-21 12:32:07  \n",
       "2     0.01  2022-01-21 12:32:07  \n",
       "3     0.01  2022-01-21 12:32:07  \n",
       "4     0.01  2022-01-21 12:32:07  "
      ]
     },
     "execution_count": 74,
     "metadata": {},
     "output_type": "execute_result"
    }
   ],
   "source": [
    "query = \"\"\"\n",
    "    SELECT * FROM vitrine\n",
    "\"\"\"\n",
    "\n",
    "pd.read_sql_query( query, conn ).head()"
   ]
  },
  {
   "cell_type": "markdown",
   "id": "48d08e25",
   "metadata": {},
   "source": [
    "# 4.0. Data Description"
   ]
  },
  {
   "cell_type": "code",
   "execution_count": 49,
   "id": "8d5dd389",
   "metadata": {
    "ExecuteTime": {
     "end_time": "2022-01-23T10:03:18.618620Z",
     "start_time": "2022-01-23T10:03:18.588914Z"
    }
   },
   "outputs": [],
   "source": [
    "conn = create_engine( 'sqlite:///database_hm.sqlite', echo=False )\n",
    "\n",
    "query = \"\"\"\n",
    "    SELECT * FROM vitrine\n",
    "\"\"\"\n",
    "\n",
    "df_raw = pd.read_sql_query( query, con=conn )"
   ]
  },
  {
   "cell_type": "code",
   "execution_count": 50,
   "id": "88a75e7d",
   "metadata": {
    "ExecuteTime": {
     "end_time": "2022-01-23T10:03:18.842991Z",
     "start_time": "2022-01-23T10:03:18.829639Z"
    }
   },
   "outputs": [],
   "source": [
    "df01 = df_raw.copy()"
   ]
  },
  {
   "cell_type": "code",
   "execution_count": 51,
   "id": "7851661e",
   "metadata": {
    "ExecuteTime": {
     "end_time": "2022-01-23T10:03:19.051873Z",
     "start_time": "2022-01-23T10:03:19.014077Z"
    }
   },
   "outputs": [
    {
     "data": {
      "text/html": [
       "<div>\n",
       "<style scoped>\n",
       "    .dataframe tbody tr th:only-of-type {\n",
       "        vertical-align: middle;\n",
       "    }\n",
       "\n",
       "    .dataframe tbody tr th {\n",
       "        vertical-align: top;\n",
       "    }\n",
       "\n",
       "    .dataframe thead th {\n",
       "        text-align: right;\n",
       "    }\n",
       "</style>\n",
       "<table border=\"1\" class=\"dataframe\">\n",
       "  <thead>\n",
       "    <tr style=\"text-align: right;\">\n",
       "      <th></th>\n",
       "      <th>product_id</th>\n",
       "      <th>style_id</th>\n",
       "      <th>color_id</th>\n",
       "      <th>product_name</th>\n",
       "      <th>color_name</th>\n",
       "      <th>fit</th>\n",
       "      <th>product_price</th>\n",
       "      <th>size_number</th>\n",
       "      <th>size_model</th>\n",
       "      <th>cotton</th>\n",
       "      <th>polyester</th>\n",
       "      <th>elasterell</th>\n",
       "      <th>spandex</th>\n",
       "      <th>scrapy_datetime</th>\n",
       "    </tr>\n",
       "  </thead>\n",
       "  <tbody>\n",
       "    <tr>\n",
       "      <th>0</th>\n",
       "      <td>1024256002</td>\n",
       "      <td>1024256</td>\n",
       "      <td>002</td>\n",
       "      <td>slim_jeans</td>\n",
       "      <td>light_denim_blue</td>\n",
       "      <td>slim_fit</td>\n",
       "      <td>19.99</td>\n",
       "      <td>nan</td>\n",
       "      <td>None</td>\n",
       "      <td>0.99</td>\n",
       "      <td>0.65</td>\n",
       "      <td>0.0</td>\n",
       "      <td>0.01</td>\n",
       "      <td>2022-01-21 12:32:07</td>\n",
       "    </tr>\n",
       "    <tr>\n",
       "      <th>1</th>\n",
       "      <td>1024256003</td>\n",
       "      <td>1024256</td>\n",
       "      <td>003</td>\n",
       "      <td>slim_jeans</td>\n",
       "      <td>light_denim_blue</td>\n",
       "      <td>slim_fit</td>\n",
       "      <td>19.99</td>\n",
       "      <td>189</td>\n",
       "      <td>31/32</td>\n",
       "      <td>0.99</td>\n",
       "      <td>0.65</td>\n",
       "      <td>0.0</td>\n",
       "      <td>0.01</td>\n",
       "      <td>2022-01-21 12:32:07</td>\n",
       "    </tr>\n",
       "    <tr>\n",
       "      <th>2</th>\n",
       "      <td>1024256004</td>\n",
       "      <td>1024256</td>\n",
       "      <td>004</td>\n",
       "      <td>slim_jeans</td>\n",
       "      <td>denim_blue</td>\n",
       "      <td>slim_fit</td>\n",
       "      <td>19.99</td>\n",
       "      <td>nan</td>\n",
       "      <td>None</td>\n",
       "      <td>0.99</td>\n",
       "      <td>0.65</td>\n",
       "      <td>0.0</td>\n",
       "      <td>0.01</td>\n",
       "      <td>2022-01-21 12:32:07</td>\n",
       "    </tr>\n",
       "    <tr>\n",
       "      <th>3</th>\n",
       "      <td>1024256005</td>\n",
       "      <td>1024256</td>\n",
       "      <td>005</td>\n",
       "      <td>slim_jeans</td>\n",
       "      <td>dark_blue</td>\n",
       "      <td>slim_fit</td>\n",
       "      <td>19.99</td>\n",
       "      <td>nan</td>\n",
       "      <td>None</td>\n",
       "      <td>0.99</td>\n",
       "      <td>0.65</td>\n",
       "      <td>0.0</td>\n",
       "      <td>0.01</td>\n",
       "      <td>2022-01-21 12:32:07</td>\n",
       "    </tr>\n",
       "    <tr>\n",
       "      <th>4</th>\n",
       "      <td>1024256006</td>\n",
       "      <td>1024256</td>\n",
       "      <td>006</td>\n",
       "      <td>slim_jeans</td>\n",
       "      <td>dark_denim_blue</td>\n",
       "      <td>slim_fit</td>\n",
       "      <td>19.99</td>\n",
       "      <td>188</td>\n",
       "      <td>31/32</td>\n",
       "      <td>1.00</td>\n",
       "      <td>0.00</td>\n",
       "      <td>0.0</td>\n",
       "      <td>0.01</td>\n",
       "      <td>2022-01-21 12:32:07</td>\n",
       "    </tr>\n",
       "  </tbody>\n",
       "</table>\n",
       "</div>"
      ],
      "text/plain": [
       "   product_id style_id color_id product_name        color_name       fit  \\\n",
       "0  1024256002  1024256      002   slim_jeans  light_denim_blue  slim_fit   \n",
       "1  1024256003  1024256      003   slim_jeans  light_denim_blue  slim_fit   \n",
       "2  1024256004  1024256      004   slim_jeans        denim_blue  slim_fit   \n",
       "3  1024256005  1024256      005   slim_jeans         dark_blue  slim_fit   \n",
       "4  1024256006  1024256      006   slim_jeans   dark_denim_blue  slim_fit   \n",
       "\n",
       "   product_price size_number size_model  cotton  polyester  elasterell  \\\n",
       "0          19.99         nan       None    0.99       0.65         0.0   \n",
       "1          19.99         189      31/32    0.99       0.65         0.0   \n",
       "2          19.99         nan       None    0.99       0.65         0.0   \n",
       "3          19.99         nan       None    0.99       0.65         0.0   \n",
       "4          19.99         188      31/32    1.00       0.00         0.0   \n",
       "\n",
       "   spandex      scrapy_datetime  \n",
       "0     0.01  2022-01-21 12:32:07  \n",
       "1     0.01  2022-01-21 12:32:07  \n",
       "2     0.01  2022-01-21 12:32:07  \n",
       "3     0.01  2022-01-21 12:32:07  \n",
       "4     0.01  2022-01-21 12:32:07  "
      ]
     },
     "execution_count": 51,
     "metadata": {},
     "output_type": "execute_result"
    }
   ],
   "source": [
    "df01.head()"
   ]
  },
  {
   "cell_type": "markdown",
   "id": "14653625",
   "metadata": {},
   "source": [
    "## 4.1. Data Dimension"
   ]
  },
  {
   "cell_type": "code",
   "execution_count": 52,
   "id": "1869a6ff",
   "metadata": {
    "ExecuteTime": {
     "end_time": "2022-01-23T10:03:19.276798Z",
     "start_time": "2022-01-23T10:03:19.261370Z"
    }
   },
   "outputs": [
    {
     "name": "stdout",
     "output_type": "stream",
     "text": [
      " Number of Rows:    408\n",
      " Number of Columns: 14\n"
     ]
    }
   ],
   "source": [
    "print(f' Number of Rows:    {df01.shape[0]}' )\n",
    "print(f' Number of Columns: {df01.shape[1]}' )"
   ]
  },
  {
   "cell_type": "markdown",
   "id": "042f7927",
   "metadata": {},
   "source": [
    "## 4.2. Data Types"
   ]
  },
  {
   "cell_type": "code",
   "execution_count": 53,
   "id": "f1185d0d",
   "metadata": {
    "ExecuteTime": {
     "end_time": "2022-01-23T10:03:19.629187Z",
     "start_time": "2022-01-23T10:03:19.595239Z"
    }
   },
   "outputs": [
    {
     "data": {
      "text/plain": [
       "product_id          object\n",
       "style_id            object\n",
       "color_id            object\n",
       "product_name        object\n",
       "color_name          object\n",
       "fit                 object\n",
       "product_price      float64\n",
       "size_number         object\n",
       "size_model          object\n",
       "cotton             float64\n",
       "polyester          float64\n",
       "elasterell         float64\n",
       "spandex            float64\n",
       "scrapy_datetime     object\n",
       "dtype: object"
      ]
     },
     "execution_count": 53,
     "metadata": {},
     "output_type": "execute_result"
    }
   ],
   "source": [
    "df01.dtypes"
   ]
  },
  {
   "cell_type": "code",
   "execution_count": 54,
   "id": "366d6923",
   "metadata": {
    "ExecuteTime": {
     "end_time": "2022-01-23T10:03:19.874174Z",
     "start_time": "2022-01-23T10:03:19.855525Z"
    }
   },
   "outputs": [],
   "source": [
    "# convert object to datetime\n",
    "df01['scrapy_datetime'] = pd.to_datetime( df01['scrapy_datetime'] )\n",
    "\n",
    "# convert de size_number\n",
    "df01['size_number'] = df01['size_number'].astype( 'float64' )"
   ]
  },
  {
   "cell_type": "markdown",
   "id": "b00fbe6a",
   "metadata": {},
   "source": [
    "## 4.3. Missing Values"
   ]
  },
  {
   "cell_type": "code",
   "execution_count": 55,
   "id": "d45dcb5f",
   "metadata": {
    "ExecuteTime": {
     "end_time": "2022-01-23T10:03:21.012471Z",
     "start_time": "2022-01-23T10:03:20.987243Z"
    },
    "cell_style": "split",
    "hide_input": false
   },
   "outputs": [
    {
     "data": {
      "text/plain": [
       "product_id           0\n",
       "style_id             0\n",
       "color_id             0\n",
       "product_name         0\n",
       "color_name           0\n",
       "fit                  0\n",
       "product_price        0\n",
       "size_number        241\n",
       "size_model         261\n",
       "cotton               0\n",
       "polyester            0\n",
       "elasterell           0\n",
       "spandex              0\n",
       "scrapy_datetime      0\n",
       "dtype: int64"
      ]
     },
     "execution_count": 55,
     "metadata": {},
     "output_type": "execute_result"
    }
   ],
   "source": [
    "df01.isnull().sum()"
   ]
  },
  {
   "cell_type": "code",
   "execution_count": 56,
   "id": "ee0b734f",
   "metadata": {
    "ExecuteTime": {
     "end_time": "2022-01-23T10:03:21.479601Z",
     "start_time": "2022-01-23T10:03:21.454001Z"
    },
    "cell_style": "split"
   },
   "outputs": [
    {
     "data": {
      "text/plain": [
       "product_id         0.000000\n",
       "style_id           0.000000\n",
       "color_id           0.000000\n",
       "product_name       0.000000\n",
       "color_name         0.000000\n",
       "fit                0.000000\n",
       "product_price      0.000000\n",
       "size_number        0.590686\n",
       "size_model         0.639706\n",
       "cotton             0.000000\n",
       "polyester          0.000000\n",
       "elasterell         0.000000\n",
       "spandex            0.000000\n",
       "scrapy_datetime    0.000000\n",
       "dtype: float64"
      ]
     },
     "execution_count": 56,
     "metadata": {},
     "output_type": "execute_result"
    }
   ],
   "source": [
    "df01.isnull().sum() / len( df01 )"
   ]
  },
  {
   "cell_type": "markdown",
   "id": "3ff897dc",
   "metadata": {},
   "source": [
    "## 4.4. Fill Missing Values"
   ]
  },
  {
   "cell_type": "markdown",
   "id": "156b6908",
   "metadata": {},
   "source": [
    "Estratégia foi preencher com os valores com maior quantidade na colunas \"size_model\" e como a maior quantidade foi 31/32 e 32/32, vamos adotar que as outras peças adotam esse size_number de 31/32"
   ]
  },
  {
   "cell_type": "markdown",
   "id": "59bae3a5",
   "metadata": {},
   "source": [
    "\n",
    "### Size Model "
   ]
  },
  {
   "cell_type": "code",
   "execution_count": 57,
   "id": "ec475b1f",
   "metadata": {
    "ExecuteTime": {
     "end_time": "2022-01-23T10:03:22.749306Z",
     "start_time": "2022-01-23T10:03:22.725051Z"
    }
   },
   "outputs": [
    {
     "data": {
      "text/html": [
       "<div>\n",
       "<style scoped>\n",
       "    .dataframe tbody tr th:only-of-type {\n",
       "        vertical-align: middle;\n",
       "    }\n",
       "\n",
       "    .dataframe tbody tr th {\n",
       "        vertical-align: top;\n",
       "    }\n",
       "\n",
       "    .dataframe thead th {\n",
       "        text-align: right;\n",
       "    }\n",
       "</style>\n",
       "<table border=\"1\" class=\"dataframe\">\n",
       "  <thead>\n",
       "    <tr style=\"text-align: right;\">\n",
       "      <th></th>\n",
       "      <th>index</th>\n",
       "      <th>values</th>\n",
       "    </tr>\n",
       "  </thead>\n",
       "  <tbody>\n",
       "    <tr>\n",
       "      <th>0</th>\n",
       "      <td>31/32</td>\n",
       "      <td>79</td>\n",
       "    </tr>\n",
       "    <tr>\n",
       "      <th>1</th>\n",
       "      <td>32/32</td>\n",
       "      <td>44</td>\n",
       "    </tr>\n",
       "    <tr>\n",
       "      <th>2</th>\n",
       "      <td>31/30</td>\n",
       "      <td>12</td>\n",
       "    </tr>\n",
       "    <tr>\n",
       "      <th>3</th>\n",
       "      <td>33/32</td>\n",
       "      <td>8</td>\n",
       "    </tr>\n",
       "    <tr>\n",
       "      <th>4</th>\n",
       "      <td>32/30</td>\n",
       "      <td>4</td>\n",
       "    </tr>\n",
       "  </tbody>\n",
       "</table>\n",
       "</div>"
      ],
      "text/plain": [
       "   index  values\n",
       "0  31/32      79\n",
       "1  32/32      44\n",
       "2  31/30      12\n",
       "3  33/32       8\n",
       "4  32/30       4"
      ]
     },
     "execution_count": 57,
     "metadata": {},
     "output_type": "execute_result"
    }
   ],
   "source": [
    "count = df01['size_model'].value_counts()\n",
    "count.name = 'values'\n",
    "\n",
    "aux = pd.DataFrame( count ).reset_index()\n",
    "aux"
   ]
  },
  {
   "cell_type": "code",
   "execution_count": 58,
   "id": "75766eb8",
   "metadata": {
    "ExecuteTime": {
     "end_time": "2022-01-23T10:03:23.094071Z",
     "start_time": "2022-01-23T10:03:23.079350Z"
    }
   },
   "outputs": [],
   "source": [
    "df01['size_model'].fillna( aux['index'][0], inplace=True )"
   ]
  },
  {
   "cell_type": "markdown",
   "id": "e859f5b8",
   "metadata": {},
   "source": [
    "\n",
    "### Size Number "
   ]
  },
  {
   "cell_type": "markdown",
   "id": "0cd5606e",
   "metadata": {},
   "source": [
    "Estratégia será preencher com o valor que de fato mais se repetiu, que também bateu com um valor muito próximo da média.        "
   ]
  },
  {
   "cell_type": "code",
   "execution_count": 59,
   "id": "8c47a340",
   "metadata": {
    "ExecuteTime": {
     "end_time": "2022-01-23T10:03:24.014052Z",
     "start_time": "2022-01-23T10:03:23.997219Z"
    }
   },
   "outputs": [
    {
     "data": {
      "text/plain": [
       "187.0"
      ]
     },
     "execution_count": 59,
     "metadata": {},
     "output_type": "execute_result"
    }
   ],
   "source": [
    "value_ = np.ceil( df01['size_number'].mean() )\n",
    "value_"
   ]
  },
  {
   "cell_type": "code",
   "execution_count": 60,
   "id": "4ef57432",
   "metadata": {
    "ExecuteTime": {
     "end_time": "2022-01-23T10:03:24.902025Z",
     "start_time": "2022-01-23T10:03:24.389587Z"
    }
   },
   "outputs": [
    {
     "data": {
      "image/png": "[encoded data removed]",
      "text/plain": [
       "<Figure size 864x504 with 1 Axes>"
      ]
     },
     "metadata": {
      "needs_background": "light"
     },
     "output_type": "display_data"
    }
   ],
   "source": [
    "sns.histplot( df01['size_number'] );"
   ]
  },
  {
   "cell_type": "code",
   "execution_count": 61,
   "id": "74d53be5",
   "metadata": {
    "ExecuteTime": {
     "end_time": "2022-01-23T10:03:26.576388Z",
     "start_time": "2022-01-23T10:03:26.555841Z"
    }
   },
   "outputs": [],
   "source": [
    "df01['size_number'].fillna( value_, inplace=True )"
   ]
  },
  {
   "cell_type": "markdown",
   "id": "4a2530d7",
   "metadata": {},
   "source": [
    "## 4.1.5. Description"
   ]
  },
  {
   "cell_type": "code",
   "execution_count": 62,
   "id": "19064a15",
   "metadata": {
    "ExecuteTime": {
     "end_time": "2022-01-23T10:03:31.811047Z",
     "start_time": "2022-01-23T10:03:31.796313Z"
    }
   },
   "outputs": [],
   "source": [
    "num_attributes = df01.select_dtypes( include=['float64'] )\n",
    "cat_attributes = df01.select_dtypes( include=['object'] )"
   ]
  },
  {
   "cell_type": "markdown",
   "id": "88327b21",
   "metadata": {},
   "source": [
    "### 4.1.5.1 Numeric Data"
   ]
  },
  {
   "cell_type": "code",
   "execution_count": 63,
   "id": "061aaeba",
   "metadata": {
    "ExecuteTime": {
     "end_time": "2022-01-23T10:03:32.151792Z",
     "start_time": "2022-01-23T10:03:32.141613Z"
    }
   },
   "outputs": [],
   "source": [
    "def numeric_statistics( df ):\n",
    "    \n",
    "    dic = {\n",
    "        \"type\": df.dtypes.values,\n",
    "        \"Null\": df.shape[0] - df.count().values,\n",
    "        \"Null%\": 100 * (df.shape[0] - df.count().values)/df.shape[0],\n",
    "        \"Mean\": df.mean(),\n",
    "        \"Median\": df.median(),\n",
    "        \"Std\": df.std(),\n",
    "        \"Std%\": df.std() / df.mean(),\n",
    "        \"Min\": df.min(),\n",
    "        \"Max\": df.max(),\n",
    "        \"Range\": df.max() - df.min(),\n",
    "        \"Skew\": df.skew(),\n",
    "        \"Kurtosis\": df.kurtosis()\n",
    "    }\n",
    "    \n",
    "    return pd.DataFrame( dic, index=df.columns )"
   ]
  },
  {
   "cell_type": "code",
   "execution_count": 64,
   "id": "67217020",
   "metadata": {
    "ExecuteTime": {
     "end_time": "2022-01-23T10:03:32.483528Z",
     "start_time": "2022-01-23T10:03:32.404021Z"
    }
   },
   "outputs": [
    {
     "data": {
      "text/html": [
       "<div>\n",
       "<style scoped>\n",
       "    .dataframe tbody tr th:only-of-type {\n",
       "        vertical-align: middle;\n",
       "    }\n",
       "\n",
       "    .dataframe tbody tr th {\n",
       "        vertical-align: top;\n",
       "    }\n",
       "\n",
       "    .dataframe thead th {\n",
       "        text-align: right;\n",
       "    }\n",
       "</style>\n",
       "<table border=\"1\" class=\"dataframe\">\n",
       "  <thead>\n",
       "    <tr style=\"text-align: right;\">\n",
       "      <th></th>\n",
       "      <th>type</th>\n",
       "      <th>Null</th>\n",
       "      <th>Null%</th>\n",
       "      <th>Mean</th>\n",
       "      <th>Median</th>\n",
       "      <th>Std</th>\n",
       "      <th>Std%</th>\n",
       "      <th>Min</th>\n",
       "      <th>Max</th>\n",
       "      <th>Range</th>\n",
       "      <th>Skew</th>\n",
       "      <th>Kurtosis</th>\n",
       "    </tr>\n",
       "  </thead>\n",
       "  <tbody>\n",
       "    <tr>\n",
       "      <th>product_price</th>\n",
       "      <td>float64</td>\n",
       "      <td>0</td>\n",
       "      <td>0.0</td>\n",
       "      <td>28.708137</td>\n",
       "      <td>24.99</td>\n",
       "      <td>10.651803</td>\n",
       "      <td>0.371038</td>\n",
       "      <td>7.99</td>\n",
       "      <td>59.99</td>\n",
       "      <td>52.00</td>\n",
       "      <td>0.557244</td>\n",
       "      <td>0.283577</td>\n",
       "    </tr>\n",
       "    <tr>\n",
       "      <th>size_number</th>\n",
       "      <td>float64</td>\n",
       "      <td>0</td>\n",
       "      <td>0.0</td>\n",
       "      <td>186.933824</td>\n",
       "      <td>187.00</td>\n",
       "      <td>1.135980</td>\n",
       "      <td>0.006077</td>\n",
       "      <td>182.00</td>\n",
       "      <td>189.00</td>\n",
       "      <td>7.00</td>\n",
       "      <td>-2.355727</td>\n",
       "      <td>9.122783</td>\n",
       "    </tr>\n",
       "    <tr>\n",
       "      <th>cotton</th>\n",
       "      <td>float64</td>\n",
       "      <td>0</td>\n",
       "      <td>0.0</td>\n",
       "      <td>0.966642</td>\n",
       "      <td>0.99</td>\n",
       "      <td>0.061391</td>\n",
       "      <td>0.063509</td>\n",
       "      <td>0.72</td>\n",
       "      <td>1.00</td>\n",
       "      <td>0.28</td>\n",
       "      <td>-2.503719</td>\n",
       "      <td>5.389037</td>\n",
       "    </tr>\n",
       "    <tr>\n",
       "      <th>polyester</th>\n",
       "      <td>float64</td>\n",
       "      <td>0</td>\n",
       "      <td>0.0</td>\n",
       "      <td>0.288358</td>\n",
       "      <td>0.06</td>\n",
       "      <td>0.331222</td>\n",
       "      <td>1.148650</td>\n",
       "      <td>0.00</td>\n",
       "      <td>1.00</td>\n",
       "      <td>1.00</td>\n",
       "      <td>0.563432</td>\n",
       "      <td>-1.314408</td>\n",
       "    </tr>\n",
       "    <tr>\n",
       "      <th>elasterell</th>\n",
       "      <td>float64</td>\n",
       "      <td>0</td>\n",
       "      <td>0.0</td>\n",
       "      <td>0.002451</td>\n",
       "      <td>0.00</td>\n",
       "      <td>0.014120</td>\n",
       "      <td>5.761089</td>\n",
       "      <td>0.00</td>\n",
       "      <td>0.09</td>\n",
       "      <td>0.09</td>\n",
       "      <td>5.621052</td>\n",
       "      <td>29.866449</td>\n",
       "    </tr>\n",
       "    <tr>\n",
       "      <th>spandex</th>\n",
       "      <td>float64</td>\n",
       "      <td>0</td>\n",
       "      <td>0.0</td>\n",
       "      <td>0.011667</td>\n",
       "      <td>0.01</td>\n",
       "      <td>0.006361</td>\n",
       "      <td>0.545204</td>\n",
       "      <td>0.00</td>\n",
       "      <td>0.02</td>\n",
       "      <td>0.02</td>\n",
       "      <td>-0.155644</td>\n",
       "      <td>-0.599347</td>\n",
       "    </tr>\n",
       "  </tbody>\n",
       "</table>\n",
       "</div>"
      ],
      "text/plain": [
       "                  type  Null  Null%        Mean  Median        Std      Std%  \\\n",
       "product_price  float64     0    0.0   28.708137   24.99  10.651803  0.371038   \n",
       "size_number    float64     0    0.0  186.933824  187.00   1.135980  0.006077   \n",
       "cotton         float64     0    0.0    0.966642    0.99   0.061391  0.063509   \n",
       "polyester      float64     0    0.0    0.288358    0.06   0.331222  1.148650   \n",
       "elasterell     float64     0    0.0    0.002451    0.00   0.014120  5.761089   \n",
       "spandex        float64     0    0.0    0.011667    0.01   0.006361  0.545204   \n",
       "\n",
       "                  Min     Max  Range      Skew   Kurtosis  \n",
       "product_price    7.99   59.99  52.00  0.557244   0.283577  \n",
       "size_number    182.00  189.00   7.00 -2.355727   9.122783  \n",
       "cotton           0.72    1.00   0.28 -2.503719   5.389037  \n",
       "polyester        0.00    1.00   1.00  0.563432  -1.314408  \n",
       "elasterell       0.00    0.09   0.09  5.621052  29.866449  \n",
       "spandex          0.00    0.02   0.02 -0.155644  -0.599347  "
      ]
     },
     "execution_count": 64,
     "metadata": {},
     "output_type": "execute_result"
    }
   ],
   "source": [
    "numeric_statistics( num_attributes )"
   ]
  },
  {
   "cell_type": "markdown",
   "id": "efa6d3c2",
   "metadata": {},
   "source": [
    "Comparando duas colunas numéricas podemos entender oque algumas medidas apresentam.\n",
    "\n",
    "1. **Mean**\n",
    "    - podemos ver que a média para o **product_price** pode representar melhor esta variável. Pois como a variável está mais concentrada a média não é tão afetada por valores extremos como é na coluna **elasterell**. Onde apresenta um valor para a média que talvez nem exista pontos com esse valor, pois foi bastante afetado por valores extremos.\n",
    "\n",
    "\n",
    "2. **Std**\n",
    "    - Em termos absoluto difícil dizer qual variável tem uma maior variação, mas utilizando o Coeficiente de variação(Std%) podemos ver que a variável **elasterell** variou bem mais que a **product_price** em termos percentuais.\n",
    "\n",
    "\n",
    "3. **Skew**\n",
    "    - Podemos ver também que com os valores de skew temos uma ideia de como está a assimetria da distribuição em relação a distribuição normal. Para a variável **elasterell** é difícil enxergar o mínimo de assimetria que existe pois não possui uma distribuição tão igualitária. Já para a variável **product_price**, podemos ver que existe de fato uma certa assimetria a direita que é ratificada pelo valor mais positivo de skew.\n",
    "\n",
    "\n",
    "4. **Kurtosis**\n",
    "    - Podemos ver que esse valor revela o quão carregada estão as caudas da distribuição. Ficando claro que as caudas da variável **elasterell** são bem mais carregadas que do **product_price** que é mais bem distribuída."
   ]
  },
  {
   "cell_type": "code",
   "execution_count": 65,
   "id": "67f6814d",
   "metadata": {
    "ExecuteTime": {
     "end_time": "2022-01-23T10:03:33.492049Z",
     "start_time": "2022-01-23T10:03:33.452882Z"
    }
   },
   "outputs": [
    {
     "data": {
      "text/html": [
       "<div>\n",
       "<style scoped>\n",
       "    .dataframe tbody tr th:only-of-type {\n",
       "        vertical-align: middle;\n",
       "    }\n",
       "\n",
       "    .dataframe tbody tr th {\n",
       "        vertical-align: top;\n",
       "    }\n",
       "\n",
       "    .dataframe thead th {\n",
       "        text-align: right;\n",
       "    }\n",
       "</style>\n",
       "<table border=\"1\" class=\"dataframe\">\n",
       "  <thead>\n",
       "    <tr style=\"text-align: right;\">\n",
       "      <th></th>\n",
       "      <th>type</th>\n",
       "      <th>Null</th>\n",
       "      <th>Null%</th>\n",
       "      <th>Mean</th>\n",
       "      <th>Median</th>\n",
       "      <th>Std</th>\n",
       "      <th>Std%</th>\n",
       "      <th>Min</th>\n",
       "      <th>Max</th>\n",
       "      <th>Range</th>\n",
       "      <th>Skew</th>\n",
       "      <th>Kurtosis</th>\n",
       "    </tr>\n",
       "  </thead>\n",
       "  <tbody>\n",
       "    <tr>\n",
       "      <th>product_price</th>\n",
       "      <td>float64</td>\n",
       "      <td>0</td>\n",
       "      <td>0.0</td>\n",
       "      <td>28.708137</td>\n",
       "      <td>24.99</td>\n",
       "      <td>10.651803</td>\n",
       "      <td>0.371038</td>\n",
       "      <td>7.99</td>\n",
       "      <td>59.99</td>\n",
       "      <td>52.00</td>\n",
       "      <td>0.557244</td>\n",
       "      <td>0.283577</td>\n",
       "    </tr>\n",
       "    <tr>\n",
       "      <th>elasterell</th>\n",
       "      <td>float64</td>\n",
       "      <td>0</td>\n",
       "      <td>0.0</td>\n",
       "      <td>0.002451</td>\n",
       "      <td>0.00</td>\n",
       "      <td>0.014120</td>\n",
       "      <td>5.761089</td>\n",
       "      <td>0.00</td>\n",
       "      <td>0.09</td>\n",
       "      <td>0.09</td>\n",
       "      <td>5.621052</td>\n",
       "      <td>29.866449</td>\n",
       "    </tr>\n",
       "  </tbody>\n",
       "</table>\n",
       "</div>"
      ],
      "text/plain": [
       "                  type  Null  Null%       Mean  Median        Std      Std%  \\\n",
       "product_price  float64     0    0.0  28.708137   24.99  10.651803  0.371038   \n",
       "elasterell     float64     0    0.0   0.002451    0.00   0.014120  5.761089   \n",
       "\n",
       "                Min    Max  Range      Skew   Kurtosis  \n",
       "product_price  7.99  59.99  52.00  0.557244   0.283577  \n",
       "elasterell     0.00   0.09   0.09  5.621052  29.866449  "
      ]
     },
     "execution_count": 65,
     "metadata": {},
     "output_type": "execute_result"
    }
   ],
   "source": [
    "numeric_statistics( num_attributes ).loc[['product_price','elasterell'],:]"
   ]
  },
  {
   "cell_type": "code",
   "execution_count": 66,
   "id": "70c00131",
   "metadata": {
    "ExecuteTime": {
     "end_time": "2022-01-23T10:03:34.573423Z",
     "start_time": "2022-01-23T10:03:33.852818Z"
    },
    "cell_style": "split"
   },
   "outputs": [
    {
     "data": {
      "image/png": "[encoded data removed]",
      "text/plain": [
       "<Figure size 864x504 with 1 Axes>"
      ]
     },
     "metadata": {
      "needs_background": "light"
     },
     "output_type": "display_data"
    }
   ],
   "source": [
    "sns.histplot( num_attributes['elasterell'], bins=9 );\n"
   ]
  },
  {
   "cell_type": "code",
   "execution_count": 67,
   "id": "c7eed7ad",
   "metadata": {
    "ExecuteTime": {
     "end_time": "2022-01-23T10:03:35.242137Z",
     "start_time": "2022-01-23T10:03:34.778068Z"
    },
    "cell_style": "split"
   },
   "outputs": [
    {
     "data": {
      "image/png": "[encoded data removed]",
      "text/plain": [
       "<Figure size 864x504 with 1 Axes>"
      ]
     },
     "metadata": {
      "needs_background": "light"
     },
     "output_type": "display_data"
    }
   ],
   "source": [
    "sns.histplot( num_attributes['product_price'], \n",
    "color=sns.color_palette('twilight_shifted_r')[1]);"
   ]
  },
  {
   "cell_type": "markdown",
   "id": "2f4f460b",
   "metadata": {},
   "source": [
    "### 4.1.5.1 Category Data"
   ]
  },
  {
   "cell_type": "code",
   "execution_count": 69,
   "id": "c9078cc0",
   "metadata": {
    "ExecuteTime": {
     "end_time": "2022-01-23T10:04:22.959086Z",
     "start_time": "2022-01-23T10:04:22.933970Z"
    }
   },
   "outputs": [
    {
     "data": {
      "text/html": [
       "<div>\n",
       "<style scoped>\n",
       "    .dataframe tbody tr th:only-of-type {\n",
       "        vertical-align: middle;\n",
       "    }\n",
       "\n",
       "    .dataframe tbody tr th {\n",
       "        vertical-align: top;\n",
       "    }\n",
       "\n",
       "    .dataframe thead th {\n",
       "        text-align: right;\n",
       "    }\n",
       "</style>\n",
       "<table border=\"1\" class=\"dataframe\">\n",
       "  <thead>\n",
       "    <tr style=\"text-align: right;\">\n",
       "      <th></th>\n",
       "      <th>product_id</th>\n",
       "      <th>style_id</th>\n",
       "      <th>color_id</th>\n",
       "      <th>product_name</th>\n",
       "      <th>color_name</th>\n",
       "      <th>fit</th>\n",
       "      <th>size_model</th>\n",
       "    </tr>\n",
       "  </thead>\n",
       "  <tbody>\n",
       "    <tr>\n",
       "      <th>0</th>\n",
       "      <td>1024256002</td>\n",
       "      <td>1024256</td>\n",
       "      <td>002</td>\n",
       "      <td>slim_jeans</td>\n",
       "      <td>light_denim_blue</td>\n",
       "      <td>slim_fit</td>\n",
       "      <td>31/32</td>\n",
       "    </tr>\n",
       "    <tr>\n",
       "      <th>1</th>\n",
       "      <td>1024256003</td>\n",
       "      <td>1024256</td>\n",
       "      <td>003</td>\n",
       "      <td>slim_jeans</td>\n",
       "      <td>light_denim_blue</td>\n",
       "      <td>slim_fit</td>\n",
       "      <td>31/32</td>\n",
       "    </tr>\n",
       "    <tr>\n",
       "      <th>2</th>\n",
       "      <td>1024256004</td>\n",
       "      <td>1024256</td>\n",
       "      <td>004</td>\n",
       "      <td>slim_jeans</td>\n",
       "      <td>denim_blue</td>\n",
       "      <td>slim_fit</td>\n",
       "      <td>31/32</td>\n",
       "    </tr>\n",
       "    <tr>\n",
       "      <th>3</th>\n",
       "      <td>1024256005</td>\n",
       "      <td>1024256</td>\n",
       "      <td>005</td>\n",
       "      <td>slim_jeans</td>\n",
       "      <td>dark_blue</td>\n",
       "      <td>slim_fit</td>\n",
       "      <td>31/32</td>\n",
       "    </tr>\n",
       "    <tr>\n",
       "      <th>4</th>\n",
       "      <td>1024256006</td>\n",
       "      <td>1024256</td>\n",
       "      <td>006</td>\n",
       "      <td>slim_jeans</td>\n",
       "      <td>dark_denim_blue</td>\n",
       "      <td>slim_fit</td>\n",
       "      <td>31/32</td>\n",
       "    </tr>\n",
       "  </tbody>\n",
       "</table>\n",
       "</div>"
      ],
      "text/plain": [
       "   product_id style_id color_id product_name        color_name       fit  \\\n",
       "0  1024256002  1024256      002   slim_jeans  light_denim_blue  slim_fit   \n",
       "1  1024256003  1024256      003   slim_jeans  light_denim_blue  slim_fit   \n",
       "2  1024256004  1024256      004   slim_jeans        denim_blue  slim_fit   \n",
       "3  1024256005  1024256      005   slim_jeans         dark_blue  slim_fit   \n",
       "4  1024256006  1024256      006   slim_jeans   dark_denim_blue  slim_fit   \n",
       "\n",
       "  size_model  \n",
       "0      31/32  \n",
       "1      31/32  \n",
       "2      31/32  \n",
       "3      31/32  \n",
       "4      31/32  "
      ]
     },
     "execution_count": 69,
     "metadata": {},
     "output_type": "execute_result"
    }
   ],
   "source": [
    "cat_attributes.head()"
   ]
  },
  {
   "cell_type": "code",
   "execution_count": 96,
   "id": "40b26842",
   "metadata": {
    "ExecuteTime": {
     "end_time": "2022-01-23T10:19:01.589640Z",
     "start_time": "2022-01-23T10:19:01.157083Z"
    }
   },
   "outputs": [
    {
     "data": {
      "image/png": "[encoded data removed]",
      "text/plain": [
       "<Figure size 864x504 with 1 Axes>"
      ]
     },
     "metadata": {
      "needs_background": "light"
     },
     "output_type": "display_data"
    }
   ],
   "source": [
    "order = cat_attributes['product_name'].value_counts().index\n",
    "\n",
    "sns.countplot( data=cat_attributes, x='product_name',  palette='twilight_shifted_r', order=order )\n",
    "plt.xticks( rotation=20 );"
   ]
  },
  {
   "cell_type": "code",
   "execution_count": 95,
   "id": "d086c9e3",
   "metadata": {
    "ExecuteTime": {
     "end_time": "2022-01-23T10:17:59.969380Z",
     "start_time": "2022-01-23T10:17:58.994114Z"
    }
   },
   "outputs": [
    {
     "data": {
      "image/png": "[encoded data removed]",
      "text/plain": [
       "<Figure size 864x504 with 1 Axes>"
      ]
     },
     "metadata": {
      "needs_background": "light"
     },
     "output_type": "display_data"
    }
   ],
   "source": [
    "order = cat_attributes['color_name'].value_counts().index\n",
    "\n",
    "sns.countplot( data=cat_attributes, x='color_name',  palette='twilight_shifted_r', order=order )\n",
    "plt.xticks( rotation=90 );"
   ]
  },
  {
   "cell_type": "code",
   "execution_count": 98,
   "id": "7983ce6d",
   "metadata": {
    "ExecuteTime": {
     "end_time": "2022-01-23T10:19:52.624451Z",
     "start_time": "2022-01-23T10:19:52.310871Z"
    }
   },
   "outputs": [
    {
     "data": {
      "image/png": "[encoded data removed]",
      "text/plain": [
       "<Figure size 864x504 with 1 Axes>"
      ]
     },
     "metadata": {
      "needs_background": "light"
     },
     "output_type": "display_data"
    }
   ],
   "source": [
    "order = cat_attributes['fit'].value_counts().index\n",
    "\n",
    "sns.countplot( data=cat_attributes, x='fit',  palette='twilight_shifted_r', order=order )\n",
    "plt.xticks( rotation=30 );"
   ]
  },
  {
   "cell_type": "code",
   "execution_count": 109,
   "id": "e87dd075",
   "metadata": {
    "ExecuteTime": {
     "end_time": "2022-01-23T10:25:27.633443Z",
     "start_time": "2022-01-23T10:25:27.302706Z"
    }
   },
   "outputs": [
    {
     "data": {
      "image/png": "[encoded data removed]",
      "text/plain": [
       "<Figure size 864x504 with 1 Axes>"
      ]
     },
     "metadata": {
      "needs_background": "light"
     },
     "output_type": "display_data"
    }
   ],
   "source": [
    "list01 = ['31/30','31/32', '32/32', '32/30', '33/32']\n",
    "sns.countplot( data=cat_attributes, x='size_model',  palette='twilight_shifted_r', order=list01 )\n",
    "plt.xticks( rotation=30 );"
   ]
  },
  {
   "cell_type": "markdown",
   "id": "de6390e9",
   "metadata": {},
   "source": [
    "## 4.2. Feature Engineering"
   ]
  },
  {
   "cell_type": "markdown",
   "id": "1df5c463",
   "metadata": {},
   "source": [
    "## 4.3. Filter Data"
   ]
  }
 ],
 "metadata": {
  "kernelspec": {
   "display_name": "Python 3 (ipykernel)",
   "language": "python",
   "name": "python3"
  },
  "language_info": {
   "codemirror_mode": {
    "name": "ipython",
    "version": 3
   },
   "file_extension": ".py",
   "mimetype": "text/x-python",
   "name": "python",
   "nbconvert_exporter": "python",
   "pygments_lexer": "ipython3",
   "version": "3.9.6"
  },
  "varInspector": {
   "cols": {
    "lenName": 16,
    "lenType": 16,
    "lenVar": 40
   },
   "kernels_config": {
    "python": {
     "delete_cmd_postfix": "",
     "delete_cmd_prefix": "del ",
     "library": "var_list.py",
     "varRefreshCmd": "print(var_dic_list())"
    },
    "r": {
     "delete_cmd_postfix": ") ",
     "delete_cmd_prefix": "rm(",
     "library": "var_list.r",
     "varRefreshCmd": "cat(var_dic_list()) "
    }
   },
   "types_to_exclude": [
    "module",
    "function",
    "builtin_function_or_method",
    "instance",
    "_Feature"
   ],
   "window_display": false
  }
 },
 "nbformat": 4,
 "nbformat_minor": 5
}
